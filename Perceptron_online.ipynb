{
 "cells": [
  {
   "cell_type": "code",
   "execution_count": 1,
   "metadata": {},
   "outputs": [],
   "source": [
    "import numpy as np\n",
    "import pandas as pd\n",
    "from sklearn.model_selection import train_test_split\n",
    "from sklearn.discriminant_analysis import LinearDiscriminantAnalysis as LDA\n",
    "from sklearn.discriminant_analysis import QuadraticDiscriminantAnalysis as QDA\n",
    "from sklearn.linear_model import LogisticRegression\n",
    "from sklearn import metrics\n",
    "from sklearn.metrics import roc_auc_score\n",
    "import seaborn as snb; snb.set()\n",
    "import matplotlib.pyplot as plt"
   ]
  },
  {
   "cell_type": "code",
   "execution_count": 4,
   "metadata": {},
   "outputs": [
    {
     "name": "stderr",
     "output_type": "stream",
     "text": [
      "C:\\Users\\javie\\Anaconda3\\lib\\site-packages\\ipykernel_launcher.py:4: SettingWithCopyWarning: \n",
      "A value is trying to be set on a copy of a slice from a DataFrame\n",
      "\n",
      "See the caveats in the documentation: http://pandas.pydata.org/pandas-docs/stable/user_guide/indexing.html#returning-a-view-versus-a-copy\n",
      "  after removing the cwd from sys.path.\n"
     ]
    },
    {
     "data": {
      "text/html": [
       "<div>\n",
       "<style scoped>\n",
       "    .dataframe tbody tr th:only-of-type {\n",
       "        vertical-align: middle;\n",
       "    }\n",
       "\n",
       "    .dataframe tbody tr th {\n",
       "        vertical-align: top;\n",
       "    }\n",
       "\n",
       "    .dataframe thead th {\n",
       "        text-align: right;\n",
       "    }\n",
       "</style>\n",
       "<table border=\"1\" class=\"dataframe\">\n",
       "  <thead>\n",
       "    <tr style=\"text-align: right;\">\n",
       "      <th></th>\n",
       "      <th>Pregnancies</th>\n",
       "      <th>Glucose</th>\n",
       "      <th>BloodPressure</th>\n",
       "      <th>SkinThickness</th>\n",
       "      <th>Insulin</th>\n",
       "      <th>BMI</th>\n",
       "      <th>DiabetesPedigreeFunction</th>\n",
       "      <th>Age</th>\n",
       "      <th>Diabetes</th>\n",
       "    </tr>\n",
       "  </thead>\n",
       "  <tbody>\n",
       "    <tr>\n",
       "      <td>0</td>\n",
       "      <td>6</td>\n",
       "      <td>148</td>\n",
       "      <td>72</td>\n",
       "      <td>35</td>\n",
       "      <td>0</td>\n",
       "      <td>33.6</td>\n",
       "      <td>0.627</td>\n",
       "      <td>50</td>\n",
       "      <td>1</td>\n",
       "    </tr>\n",
       "    <tr>\n",
       "      <td>1</td>\n",
       "      <td>1</td>\n",
       "      <td>85</td>\n",
       "      <td>66</td>\n",
       "      <td>29</td>\n",
       "      <td>0</td>\n",
       "      <td>26.6</td>\n",
       "      <td>0.351</td>\n",
       "      <td>31</td>\n",
       "      <td>-1</td>\n",
       "    </tr>\n",
       "  </tbody>\n",
       "</table>\n",
       "</div>"
      ],
      "text/plain": [
       "   Pregnancies  Glucose  BloodPressure  SkinThickness  Insulin   BMI  \\\n",
       "0            6      148             72             35        0  33.6   \n",
       "1            1       85             66             29        0  26.6   \n",
       "\n",
       "   DiabetesPedigreeFunction  Age  Diabetes  \n",
       "0                     0.627   50         1  \n",
       "1                     0.351   31        -1  "
      ]
     },
     "execution_count": 4,
     "metadata": {},
     "output_type": "execute_result"
    }
   ],
   "source": [
    "#Data set to prove the diferent clasificators\n",
    "df=pd.read_csv(\"diabetes.csv\")\n",
    "df[\"Diabetes\"][df[\"Diabetes\"]==0]=-1\n",
    "df.head(2)"
   ]
  },
  {
   "cell_type": "code",
   "execution_count": 5,
   "metadata": {},
   "outputs": [
    {
     "name": "stdout",
     "output_type": "stream",
     "text": [
      "(537, 8) (231, 8)\n",
      "(537,) (231,)\n"
     ]
    }
   ],
   "source": [
    "#Separating in predictors and categories 1 is having diabetes and -1 don´t have it\n",
    "X=df.drop(\"Diabetes\",axis=1).values\n",
    "y=df[\"Diabetes\"].values\n",
    "\n",
    "# Separating in train and test sets\n",
    "X_train, X_test, y_train, y_test = train_test_split(X, y, test_size=0.3, random_state=42)\n",
    "print(X_train.shape,X_test.shape)\n",
    "print(y_train.shape,y_test.shape)"
   ]
  },
  {
   "cell_type": "code",
   "execution_count": 6,
   "metadata": {},
   "outputs": [],
   "source": [
    "#Implementation of perceptron  on line version\n",
    "def perceptron(x,y,paso,nmax_iter):\n",
    "    x=np.append(np.ones(x.shape[0]).reshape(x.shape[0],1),x,1)\n",
    "    n=x.shape[1]\n",
    "    beta=np.zeros(n)\n",
    "    bc=0\n",
    "    n_iter=0\n",
    "    while n_iter<nmax_iter:\n",
    "        n_iter=n_iter+1\n",
    "        for i in range(x.shape[0]):\n",
    "            if (y[i]*beta@x[i,:]<=0):\n",
    "                beta=beta+paso*y[i]*x[i,:]\n",
    "            else: bc=bc+1\n",
    "    return(beta)\n",
    "\n",
    "#Function to print % of error in clasification using LDA\n",
    "def train_lda(X_train,X_test,y_train,y_test):\n",
    "    lf = LDA()\n",
    "    lf.fit(X_train, y_train)\n",
    "    Y_train=lf.predict(X_train)\n",
    "    print(\"Train error LDA:\",np.around((1-sum(Y_train==y_train)/np.shape(y_train))*100,2))\n",
    "    Y_predic=lf.predict(X_test)\n",
    "    print(\"Test error LDA:\",np.around((1-sum(Y_predic==y_test)/np.shape(y_test))*100,2))\n",
    "    #print(Y_predic,y_test)\n",
    "    return(Y_predic)\n",
    "\n",
    "#Function to print % of error in clasification using QDA\n",
    "def train_qda(X_train,X_test,y_train,y_test):\n",
    "    clf = QDA()\n",
    "    clf.fit(X_train, y_train)\n",
    "    Y_train=clf.predict(X_train)\n",
    "    print(\"Train error QDA:\",np.around((1-sum(Y_train==y_train)/np.shape(y_train))*100,2))\n",
    "    Y_predic=clf.predict(X_test)\n",
    "    print(\"Test error QDA:\",np.around((1-sum(Y_predic==y_test)/np.shape(y_test))*100,2))\n",
    "    #print(Y_predic,y_test)\n",
    "    return(Y_predic)\n",
    "\n",
    "#Function to print % of error in clasification using Logistic Regression\n",
    "def train_logit(X_train,X_test,y_train,y_test):\n",
    "    clf =  LogisticRegression(random_state=0, multi_class='multinomial', solver='newton-cg')\n",
    "    clf.fit(X_train, y_train)\n",
    "    Y_train=clf.predict(X_train)\n",
    "    print(\"Train error Logit:\",np.around((1-sum(Y_train==y_train)/np.shape(y_train))*100,2))\n",
    "    Y_predic=clf.predict(X_test)\n",
    "    print(\"Test error Logit:\",np.around((1-sum(Y_predic==y_test)/np.shape(y_test))*100,2))\n",
    "    return(Y_predic)"
   ]
  },
  {
   "cell_type": "code",
   "execution_count": 7,
   "metadata": {},
   "outputs": [
    {
     "name": "stdout",
     "output_type": "stream",
     "text": [
      "Using the implementation of online perceptron\n",
      "Test error: [25.11]\n",
      "Train error: [26.44]\n"
     ]
    }
   ],
   "source": [
    "beta=perceptron(X_train,y_train,1,3000)\n",
    "x_test=np.append(np.ones(X_test.shape[0]).reshape(X_test.shape[0],1),X_test,1)\n",
    "y_pred=np.sign(x_test@beta)\n",
    "print(\"Using the implementation of online perceptron\")\n",
    "print(\"Test error:\",np.around((1-sum(y_pred==y_test)/np.shape(y_test))*100,2))\n",
    "x_train=np.append(np.ones(X_train.shape[0]).reshape(X_train.shape[0],1),X_train,1)\n",
    "y_predt=np.sign(x_train@beta)\n",
    "print(\"Train error:\",np.around((1-sum(y_predt==y_train)/np.shape(y_train))*100,2))"
   ]
  },
  {
   "cell_type": "code",
   "execution_count": 8,
   "metadata": {},
   "outputs": [
    {
     "name": "stdout",
     "output_type": "stream",
     "text": [
      "Train error LDA: [22.16]\n",
      "Test error LDA: [26.84]\n",
      "Train error QDA: [23.46]\n",
      "Test error QDA: [23.38]\n",
      "Train error Logit: [21.79]\n",
      "Test error Logit: [26.41]\n"
     ]
    }
   ],
   "source": [
    "y_lda=train_lda(X_train,X_test,y_train,y_test)\n",
    "y_qda=train_qda(X_train,X_test,y_train,y_test)\n",
    "y_reglog=train_logit(X_train,X_test,y_train,y_test)"
   ]
  },
  {
   "cell_type": "markdown",
   "metadata": {},
   "source": [
    "### ROC curves\n",
    "Behind is shown the Receiver Operating Characteristic curve (ROC) which relate the percentage of true positive on $y$ axis vs false positives percentage in $x$ axis, this is useful to choose between classificators, we choose the ones with higher area under the ROC curve, in this case we choose QDA as the best classificator."
   ]
  },
  {
   "cell_type": "code",
   "execution_count": 295,
   "metadata": {},
   "outputs": [
    {
     "data": {
      "image/png": "[encoded data removed]",
      "text/plain": [
       "<Figure size 720x504 with 1 Axes>"
      ]
     },
     "metadata": {},
     "output_type": "display_data"
    }
   ],
   "source": [
    "predicciones=[y_pred,y_lda,y_qda,y_reglog]\n",
    "etiqueta=[\"Preceptrón\",\"LDA\",\"QDA\",\"Reg Logit\"]\n",
    "plt.figure(figsize=(10, 7))\n",
    "for i in range(4):\n",
    "    fpr, tpr, thresholds = metrics.roc_curve(y_test, predicciones[i])\n",
    "    aux=roc_auc_score(y_test, predicciones[i])\n",
    "    plt.plot(fpr,tpr,label=etiqueta[i]+\" \"+str(np.around(aux,3)))\n",
    "    #print(fpr, tpr, thresholds)\n",
    "    #plt.label(etiqueta)\n",
    "\n",
    "plt.legend(loc=\"best\")\n",
    "plt.show()"
   ]
  },
  {
   "cell_type": "code",
   "execution_count": null,
   "metadata": {},
   "outputs": [],
   "source": []
  }
 ],
 "metadata": {
  "kernelspec": {
   "display_name": "Python 3",
   "language": "python",
   "name": "python3"
  },
  "language_info": {
   "codemirror_mode": {
    "name": "ipython",
    "version": 3
   },
   "file_extension": ".py",
   "mimetype": "text/x-python",
   "name": "python",
   "nbconvert_exporter": "python",
   "pygments_lexer": "ipython3",
   "version": "3.7.4"
  }
 },
 "nbformat": 4,
 "nbformat_minor": 2
}
